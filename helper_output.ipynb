{
  "nbformat": 4,
  "nbformat_minor": 0,
  "metadata": {
    "colab": {
      "provenance": [],
      "authorship_tag": "ABX9TyO86T28sg6k0e/Aa4hZ6TR4",
      "include_colab_link": true
    },
    "kernelspec": {
      "name": "python3",
      "display_name": "Python 3"
    },
    "language_info": {
      "name": "python"
    }
  },
  "cells": [
    {
      "cell_type": "markdown",
      "metadata": {
        "id": "view-in-github",
        "colab_type": "text"
      },
      "source": [
        "<a href=\"https://colab.research.google.com/github/amirmohammadkalateh/helper_output/blob/main/helper_output.ipynb\" target=\"_parent\"><img src=\"https://colab.research.google.com/assets/colab-badge.svg\" alt=\"Open In Colab\"/></a>"
      ]
    },
    {
      "cell_type": "code",
      "execution_count": 40,
      "metadata": {
        "id": "PjaO6S0FubMO"
      },
      "outputs": [],
      "source": [
        "import tensorflow as tf\n",
        "from tensorflow import keras\n",
        "from sklearn.datasets import fetch_california_housing\n",
        "from sklearn.preprocessing import StandardScaler\n",
        "import numpy as np\n",
        "import pandas as pd"
      ]
    },
    {
      "cell_type": "code",
      "source": [
        "housing = fetch_california_housing()\n",
        "X = housing.data[: , [0,1,2,3]]\n",
        "Y = housing.target"
      ],
      "metadata": {
        "id": "CASgrqiwvAjY"
      },
      "execution_count": 41,
      "outputs": []
    },
    {
      "cell_type": "code",
      "source": [
        "scaler = StandardScaler()\n",
        "X_scaled = scaler.fit_transform(X)"
      ],
      "metadata": {
        "id": "99vW5wsYvjqA"
      },
      "execution_count": 42,
      "outputs": []
    },
    {
      "cell_type": "code",
      "source": [
        "# Split the data\n",
        "X_train, X_test, Y_train, Y_test = train_test_split(X_scaled, Y, test_size=0.2, random_state=42)"
      ],
      "metadata": {
        "id": "4xQucNSJvvxE"
      },
      "execution_count": 43,
      "outputs": []
    },
    {
      "cell_type": "code",
      "source": [
        "def create_model():\n",
        "  inputs = tf.keras.Input(shape=(4,))\n",
        "  x = tf.keras.layers.Dense(64, activation='relu')(inputs)\n",
        "  x = tf.keras.layers.Dropout(0.2)(x)\n",
        "  x = tf.keras.layers.Dense(64, activation='relu')(x)\n",
        "  x = tf.keras.layers.Dropout(0.2)(x)\n",
        "  #main\n",
        "  main_output = tf.keras.layers.Dense(1, name='main_output')(x)\n",
        "  #helper\n",
        "  helper_output = tf.keras.layers.Dense(1, activation='sigmoid', name='helper_output')(x)\n",
        "  model = tf.keras.Model(inputs=inputs,\n",
        "                         outputs=[main_output, helper_output])\n",
        "  model.compile(optimizer='adam',\n",
        "                loss={'main_output': 'mse',\n",
        "                     'helper_output': 'binary_crossentropy'},\n",
        "                loss_weights={'main_output': 1.0,\n",
        "                            'helper_output': 0.2})\n",
        "\n",
        "  return model"
      ],
      "metadata": {
        "id": "RhOJqpbRw7NG"
      },
      "execution_count": 46,
      "outputs": []
    },
    {
      "cell_type": "code",
      "source": [
        "model = create_model()\n",
        "y_train = np.array(Y_train)\n",
        "y_test = np.array(Y_test)\n",
        "helper_target = (y_train > y_train.mean()).astype(float)\n",
        "helper_target_test = (y_test > y_test.mean()).astype(float)"
      ],
      "metadata": {
        "id": "ucCf5-Pq0XxU"
      },
      "execution_count": 48,
      "outputs": []
    },
    {
      "cell_type": "code",
      "source": [
        "test_scores = model.evaluate(X_test,\n",
        "                           {'main_output': y_test,\n",
        "                            'helper_output': helper_target_test},\n",
        "                           verbose=0)\n",
        "print(\"\\nTest loss (total, main_output, helper_output):\", test_scores)"
      ],
      "metadata": {
        "colab": {
          "base_uri": "https://localhost:8080/"
        },
        "id": "k01_VOns1xrO",
        "outputId": "c7a32222-1615-4658-f743-75056d45f32e"
      },
      "execution_count": 50,
      "outputs": [
        {
          "output_type": "stream",
          "name": "stdout",
          "text": [
            "\n",
            "Test loss (total, main_output, helper_output): [5.665384292602539, 5.529346942901611, 0.6801896691322327]\n"
          ]
        }
      ]
    },
    {
      "cell_type": "code",
      "source": [],
      "metadata": {
        "id": "ObbfL5C422Js"
      },
      "execution_count": null,
      "outputs": []
    },
    {
      "cell_type": "markdown",
      "source": [
        "# New Section"
      ],
      "metadata": {
        "id": "5Wf-onGI26UM"
      }
    },
    {
      "cell_type": "code",
      "source": [
        "import numpy as np\n",
        "import tensorflow as tf\n",
        "from sklearn.datasets import fetch_california_housing\n",
        "from sklearn.model_selection import train_test_split\n",
        "from sklearn.preprocessing import StandardScaler"
      ],
      "metadata": {
        "id": "_3VwiaRl21LI"
      },
      "execution_count": 61,
      "outputs": []
    },
    {
      "cell_type": "code",
      "source": [
        "data = fetch_california_housing()\n",
        "X = data.data\n",
        "y = data.target\n"
      ],
      "metadata": {
        "id": "QNfPvIYx2-Wz"
      },
      "execution_count": 62,
      "outputs": []
    },
    {
      "cell_type": "code",
      "source": [
        "scaler = StandardScaler()\n",
        "X_scaled = scaler.fit_transform(X)\n"
      ],
      "metadata": {
        "id": "wIFtONOF3FQl"
      },
      "execution_count": 63,
      "outputs": []
    },
    {
      "cell_type": "code",
      "source": [
        "X_train, X_test, y_train, y_test = train_test_split(X_scaled, y, test_size=0.2, random_state=42)"
      ],
      "metadata": {
        "id": "8vS-BOuV3HTH"
      },
      "execution_count": 64,
      "outputs": []
    },
    {
      "cell_type": "code",
      "source": [
        "input_layer = tf.keras.layers.Input(shape=(4,))\n",
        "hidden_layer_1 = tf.keras.layers.Dense(64, activation='relu')(input_layer)\n",
        "hidden_layer_2 = tf.keras.layers.Dense(32, activation='relu')(hidden_layer_1)\n"
      ],
      "metadata": {
        "id": "TtQ96T-R3KCl"
      },
      "execution_count": 65,
      "outputs": []
    },
    {
      "cell_type": "code",
      "source": [
        "main_output = tf.keras.layers.Dense(1, name='main_output')(hidden_layer_2)\n",
        "helper_output = tf.keras.layers.Dense(1, name='helper_output')(hidden_layer_1)\n"
      ],
      "metadata": {
        "id": "z9RYDDS33QDk"
      },
      "execution_count": 66,
      "outputs": []
    },
    {
      "cell_type": "code",
      "source": [
        "model = tf.keras.models.Model(inputs=input_layer, outputs=[main_output, helper_output])"
      ],
      "metadata": {
        "id": "8evGaEMI4FVy"
      },
      "execution_count": 67,
      "outputs": []
    },
    {
      "cell_type": "code",
      "source": [
        "model.compile(optimizer='adam',\n",
        "              loss={'main_output': 'mse', 'helper_output': 'mse'},\n",
        "              loss_weights={'main_output': 0.9, 'helper_output': 0.1},\n",
        "              metrics={'main_output': 'mae', 'helper_output': 'mae'})"
      ],
      "metadata": {
        "id": "HelrI-cn4Itx"
      },
      "execution_count": 68,
      "outputs": []
    },
    {
      "cell_type": "code",
      "source": [
        "history = model.fit(X_train[:, :4], {'main_output': y_train, 'helper_output': y_train},\n",
        "                    epochs=50, batch_size=32,\n",
        "                    validation_split=0.2)"
      ],
      "metadata": {
        "colab": {
          "base_uri": "https://localhost:8080/"
        },
        "id": "pHUizHlg4LCd",
        "outputId": "0852d2d1-0a85-41a4-e437-410cc87cab90"
      },
      "execution_count": 69,
      "outputs": [
        {
          "output_type": "stream",
          "name": "stdout",
          "text": [
            "Epoch 1/50\n",
            "\u001b[1m413/413\u001b[0m \u001b[32m━━━━━━━━━━━━━━━━━━━━\u001b[0m\u001b[37m\u001b[0m \u001b[1m3s\u001b[0m 3ms/step - helper_output_loss: 2.8739 - helper_output_mae: 1.3310 - loss: 1.8173 - main_output_loss: 1.6999 - main_output_mae: 0.9441 - val_helper_output_loss: 0.6937 - val_helper_output_mae: 0.5868 - val_loss: 0.6189 - val_main_output_loss: 0.6096 - val_main_output_mae: 0.5763\n",
            "Epoch 2/50\n",
            "\u001b[1m413/413\u001b[0m \u001b[32m━━━━━━━━━━━━━━━━━━━━\u001b[0m\u001b[37m\u001b[0m \u001b[1m2s\u001b[0m 3ms/step - helper_output_loss: 0.6646 - helper_output_mae: 0.5828 - loss: 0.5780 - main_output_loss: 0.5684 - main_output_mae: 0.5501 - val_helper_output_loss: 0.6047 - val_helper_output_mae: 0.5598 - val_loss: 0.5535 - val_main_output_loss: 0.5463 - val_main_output_mae: 0.5476\n",
            "Epoch 3/50\n",
            "\u001b[1m413/413\u001b[0m \u001b[32m━━━━━━━━━━━━━━━━━━━━\u001b[0m\u001b[37m\u001b[0m \u001b[1m1s\u001b[0m 3ms/step - helper_output_loss: 0.6090 - helper_output_mae: 0.5659 - loss: 0.5630 - main_output_loss: 0.5579 - main_output_mae: 0.5470 - val_helper_output_loss: 0.5798 - val_helper_output_mae: 0.5533 - val_loss: 0.5335 - val_main_output_loss: 0.5268 - val_main_output_mae: 0.5344\n",
            "Epoch 4/50\n",
            "\u001b[1m413/413\u001b[0m \u001b[32m━━━━━━━━━━━━━━━━━━━━\u001b[0m\u001b[37m\u001b[0m \u001b[1m2s\u001b[0m 4ms/step - helper_output_loss: 0.5533 - helper_output_mae: 0.5420 - loss: 0.5117 - main_output_loss: 0.5071 - main_output_mae: 0.5209 - val_helper_output_loss: 0.5713 - val_helper_output_mae: 0.5571 - val_loss: 0.5395 - val_main_output_loss: 0.5346 - val_main_output_mae: 0.5250\n",
            "Epoch 5/50\n",
            "\u001b[1m413/413\u001b[0m \u001b[32m━━━━━━━━━━━━━━━━━━━━\u001b[0m\u001b[37m\u001b[0m \u001b[1m2s\u001b[0m 3ms/step - helper_output_loss: 0.5439 - helper_output_mae: 0.5437 - loss: 0.5126 - main_output_loss: 0.5091 - main_output_mae: 0.5242 - val_helper_output_loss: 0.5591 - val_helper_output_mae: 0.5472 - val_loss: 0.5146 - val_main_output_loss: 0.5088 - val_main_output_mae: 0.5127\n",
            "Epoch 6/50\n",
            "\u001b[1m413/413\u001b[0m \u001b[32m━━━━━━━━━━━━━━━━━━━━\u001b[0m\u001b[37m\u001b[0m \u001b[1m1s\u001b[0m 3ms/step - helper_output_loss: 0.5299 - helper_output_mae: 0.5329 - loss: 0.5015 - main_output_loss: 0.4984 - main_output_mae: 0.5149 - val_helper_output_loss: 0.5527 - val_helper_output_mae: 0.5468 - val_loss: 0.5088 - val_main_output_loss: 0.5025 - val_main_output_mae: 0.5193\n",
            "Epoch 7/50\n",
            "\u001b[1m413/413\u001b[0m \u001b[32m━━━━━━━━━━━━━━━━━━━━\u001b[0m\u001b[37m\u001b[0m \u001b[1m1s\u001b[0m 3ms/step - helper_output_loss: 0.5404 - helper_output_mae: 0.5363 - loss: 0.5033 - main_output_loss: 0.4992 - main_output_mae: 0.5143 - val_helper_output_loss: 0.5518 - val_helper_output_mae: 0.5489 - val_loss: 0.5212 - val_main_output_loss: 0.5167 - val_main_output_mae: 0.5351\n",
            "Epoch 8/50\n",
            "\u001b[1m413/413\u001b[0m \u001b[32m━━━━━━━━━━━━━━━━━━━━\u001b[0m\u001b[37m\u001b[0m \u001b[1m1s\u001b[0m 3ms/step - helper_output_loss: 0.5358 - helper_output_mae: 0.5364 - loss: 0.5033 - main_output_loss: 0.4997 - main_output_mae: 0.5154 - val_helper_output_loss: 0.5414 - val_helper_output_mae: 0.5405 - val_loss: 0.5051 - val_main_output_loss: 0.5000 - val_main_output_mae: 0.5193\n",
            "Epoch 9/50\n",
            "\u001b[1m413/413\u001b[0m \u001b[32m━━━━━━━━━━━━━━━━━━━━\u001b[0m\u001b[37m\u001b[0m \u001b[1m1s\u001b[0m 3ms/step - helper_output_loss: 0.5315 - helper_output_mae: 0.5376 - loss: 0.5018 - main_output_loss: 0.4985 - main_output_mae: 0.5167 - val_helper_output_loss: 0.5369 - val_helper_output_mae: 0.5355 - val_loss: 0.5029 - val_main_output_loss: 0.4983 - val_main_output_mae: 0.5054\n",
            "Epoch 10/50\n",
            "\u001b[1m413/413\u001b[0m \u001b[32m━━━━━━━━━━━━━━━━━━━━\u001b[0m\u001b[37m\u001b[0m \u001b[1m1s\u001b[0m 3ms/step - helper_output_loss: 0.5445 - helper_output_mae: 0.5385 - loss: 0.5086 - main_output_loss: 0.5046 - main_output_mae: 0.5156 - val_helper_output_loss: 0.5329 - val_helper_output_mae: 0.5330 - val_loss: 0.5089 - val_main_output_loss: 0.5052 - val_main_output_mae: 0.5148\n",
            "Epoch 11/50\n",
            "\u001b[1m413/413\u001b[0m \u001b[32m━━━━━━━━━━━━━━━━━━━━\u001b[0m\u001b[37m\u001b[0m \u001b[1m1s\u001b[0m 3ms/step - helper_output_loss: 0.5422 - helper_output_mae: 0.5376 - loss: 0.5086 - main_output_loss: 0.5049 - main_output_mae: 0.5178 - val_helper_output_loss: 0.5310 - val_helper_output_mae: 0.5326 - val_loss: 0.5033 - val_main_output_loss: 0.4995 - val_main_output_mae: 0.5092\n",
            "Epoch 12/50\n",
            "\u001b[1m413/413\u001b[0m \u001b[32m━━━━━━━━━━━━━━━━━━━━\u001b[0m\u001b[37m\u001b[0m \u001b[1m1s\u001b[0m 3ms/step - helper_output_loss: 0.5112 - helper_output_mae: 0.5246 - loss: 0.4842 - main_output_loss: 0.4812 - main_output_mae: 0.5061 - val_helper_output_loss: 0.5279 - val_helper_output_mae: 0.5357 - val_loss: 0.5094 - val_main_output_loss: 0.5060 - val_main_output_mae: 0.5262\n",
            "Epoch 13/50\n",
            "\u001b[1m413/413\u001b[0m \u001b[32m━━━━━━━━━━━━━━━━━━━━\u001b[0m\u001b[37m\u001b[0m \u001b[1m3s\u001b[0m 3ms/step - helper_output_loss: 0.5347 - helper_output_mae: 0.5347 - loss: 0.5093 - main_output_loss: 0.5065 - main_output_mae: 0.5173 - val_helper_output_loss: 0.5259 - val_helper_output_mae: 0.5329 - val_loss: 0.5095 - val_main_output_loss: 0.5063 - val_main_output_mae: 0.5203\n",
            "Epoch 14/50\n",
            "\u001b[1m413/413\u001b[0m \u001b[32m━━━━━━━━━━━━━━━━━━━━\u001b[0m\u001b[37m\u001b[0m \u001b[1m1s\u001b[0m 3ms/step - helper_output_loss: 0.5017 - helper_output_mae: 0.5209 - loss: 0.4800 - main_output_loss: 0.4776 - main_output_mae: 0.5030 - val_helper_output_loss: 0.5250 - val_helper_output_mae: 0.5331 - val_loss: 0.5021 - val_main_output_loss: 0.4984 - val_main_output_mae: 0.5232\n",
            "Epoch 15/50\n",
            "\u001b[1m413/413\u001b[0m \u001b[32m━━━━━━━━━━━━━━━━━━━━\u001b[0m\u001b[37m\u001b[0m \u001b[1m1s\u001b[0m 3ms/step - helper_output_loss: 0.5020 - helper_output_mae: 0.5219 - loss: 0.4805 - main_output_loss: 0.4782 - main_output_mae: 0.5033 - val_helper_output_loss: 0.5250 - val_helper_output_mae: 0.5288 - val_loss: 0.5035 - val_main_output_loss: 0.5006 - val_main_output_mae: 0.5001\n",
            "Epoch 16/50\n",
            "\u001b[1m413/413\u001b[0m \u001b[32m━━━━━━━━━━━━━━━━━━━━\u001b[0m\u001b[37m\u001b[0m \u001b[1m1s\u001b[0m 3ms/step - helper_output_loss: 0.4954 - helper_output_mae: 0.5204 - loss: 0.4716 - main_output_loss: 0.4689 - main_output_mae: 0.5017 - val_helper_output_loss: 0.5228 - val_helper_output_mae: 0.5235 - val_loss: 0.4974 - val_main_output_loss: 0.4935 - val_main_output_mae: 0.5182\n",
            "Epoch 17/50\n",
            "\u001b[1m413/413\u001b[0m \u001b[32m━━━━━━━━━━━━━━━━━━━━\u001b[0m\u001b[37m\u001b[0m \u001b[1m1s\u001b[0m 3ms/step - helper_output_loss: 0.5147 - helper_output_mae: 0.5260 - loss: 0.4893 - main_output_loss: 0.4865 - main_output_mae: 0.5094 - val_helper_output_loss: 0.5216 - val_helper_output_mae: 0.5307 - val_loss: 0.5050 - val_main_output_loss: 0.5016 - val_main_output_mae: 0.5203\n",
            "Epoch 18/50\n",
            "\u001b[1m413/413\u001b[0m \u001b[32m━━━━━━━━━━━━━━━━━━━━\u001b[0m\u001b[37m\u001b[0m \u001b[1m1s\u001b[0m 3ms/step - helper_output_loss: 0.5049 - helper_output_mae: 0.5182 - loss: 0.4831 - main_output_loss: 0.4806 - main_output_mae: 0.5028 - val_helper_output_loss: 0.5229 - val_helper_output_mae: 0.5249 - val_loss: 0.5002 - val_main_output_loss: 0.4970 - val_main_output_mae: 0.5124\n",
            "Epoch 19/50\n",
            "\u001b[1m413/413\u001b[0m \u001b[32m━━━━━━━━━━━━━━━━━━━━\u001b[0m\u001b[37m\u001b[0m \u001b[1m1s\u001b[0m 3ms/step - helper_output_loss: 0.4992 - helper_output_mae: 0.5132 - loss: 0.4752 - main_output_loss: 0.4725 - main_output_mae: 0.4978 - val_helper_output_loss: 0.5182 - val_helper_output_mae: 0.5290 - val_loss: 0.5017 - val_main_output_loss: 0.4984 - val_main_output_mae: 0.5094\n",
            "Epoch 20/50\n",
            "\u001b[1m413/413\u001b[0m \u001b[32m━━━━━━━━━━━━━━━━━━━━\u001b[0m\u001b[37m\u001b[0m \u001b[1m1s\u001b[0m 3ms/step - helper_output_loss: 0.5261 - helper_output_mae: 0.5299 - loss: 0.5007 - main_output_loss: 0.4979 - main_output_mae: 0.5139 - val_helper_output_loss: 0.5215 - val_helper_output_mae: 0.5228 - val_loss: 0.5122 - val_main_output_loss: 0.5103 - val_main_output_mae: 0.5004\n",
            "Epoch 21/50\n",
            "\u001b[1m413/413\u001b[0m \u001b[32m━━━━━━━━━━━━━━━━━━━━\u001b[0m\u001b[37m\u001b[0m \u001b[1m2s\u001b[0m 4ms/step - helper_output_loss: 0.5165 - helper_output_mae: 0.5238 - loss: 0.4991 - main_output_loss: 0.4971 - main_output_mae: 0.5099 - val_helper_output_loss: 0.5176 - val_helper_output_mae: 0.5223 - val_loss: 0.4971 - val_main_output_loss: 0.4935 - val_main_output_mae: 0.5152\n",
            "Epoch 22/50\n",
            "\u001b[1m413/413\u001b[0m \u001b[32m━━━━━━━━━━━━━━━━━━━━\u001b[0m\u001b[37m\u001b[0m \u001b[1m2s\u001b[0m 3ms/step - helper_output_loss: 0.4817 - helper_output_mae: 0.5102 - loss: 0.4619 - main_output_loss: 0.4597 - main_output_mae: 0.4943 - val_helper_output_loss: 0.5186 - val_helper_output_mae: 0.5230 - val_loss: 0.4981 - val_main_output_loss: 0.4949 - val_main_output_mae: 0.5082\n",
            "Epoch 23/50\n",
            "\u001b[1m413/413\u001b[0m \u001b[32m━━━━━━━━━━━━━━━━━━━━\u001b[0m\u001b[37m\u001b[0m \u001b[1m1s\u001b[0m 3ms/step - helper_output_loss: 0.4960 - helper_output_mae: 0.5131 - loss: 0.4773 - main_output_loss: 0.4752 - main_output_mae: 0.5005 - val_helper_output_loss: 0.5213 - val_helper_output_mae: 0.5252 - val_loss: 0.5173 - val_main_output_loss: 0.5156 - val_main_output_mae: 0.5141\n",
            "Epoch 24/50\n",
            "\u001b[1m413/413\u001b[0m \u001b[32m━━━━━━━━━━━━━━━━━━━━\u001b[0m\u001b[37m\u001b[0m \u001b[1m1s\u001b[0m 3ms/step - helper_output_loss: 0.4949 - helper_output_mae: 0.5157 - loss: 0.4746 - main_output_loss: 0.4724 - main_output_mae: 0.5010 - val_helper_output_loss: 0.5174 - val_helper_output_mae: 0.5213 - val_loss: 0.5038 - val_main_output_loss: 0.5010 - val_main_output_mae: 0.5131\n",
            "Epoch 25/50\n",
            "\u001b[1m413/413\u001b[0m \u001b[32m━━━━━━━━━━━━━━━━━━━━\u001b[0m\u001b[37m\u001b[0m \u001b[1m1s\u001b[0m 3ms/step - helper_output_loss: 0.5158 - helper_output_mae: 0.5228 - loss: 0.4916 - main_output_loss: 0.4889 - main_output_mae: 0.5089 - val_helper_output_loss: 0.5232 - val_helper_output_mae: 0.5197 - val_loss: 0.5027 - val_main_output_loss: 0.4999 - val_main_output_mae: 0.5072\n",
            "Epoch 26/50\n",
            "\u001b[1m413/413\u001b[0m \u001b[32m━━━━━━━━━━━━━━━━━━━━\u001b[0m\u001b[37m\u001b[0m \u001b[1m1s\u001b[0m 3ms/step - helper_output_loss: 0.5197 - helper_output_mae: 0.5232 - loss: 0.4917 - main_output_loss: 0.4886 - main_output_mae: 0.5056 - val_helper_output_loss: 0.5148 - val_helper_output_mae: 0.5255 - val_loss: 0.4970 - val_main_output_loss: 0.4940 - val_main_output_mae: 0.5148\n",
            "Epoch 27/50\n",
            "\u001b[1m413/413\u001b[0m \u001b[32m━━━━━━━━━━━━━━━━━━━━\u001b[0m\u001b[37m\u001b[0m \u001b[1m1s\u001b[0m 3ms/step - helper_output_loss: 0.5053 - helper_output_mae: 0.5185 - loss: 0.4829 - main_output_loss: 0.4804 - main_output_mae: 0.5040 - val_helper_output_loss: 0.5163 - val_helper_output_mae: 0.5251 - val_loss: 0.4997 - val_main_output_loss: 0.4967 - val_main_output_mae: 0.5221\n",
            "Epoch 28/50\n",
            "\u001b[1m413/413\u001b[0m \u001b[32m━━━━━━━━━━━━━━━━━━━━\u001b[0m\u001b[37m\u001b[0m \u001b[1m1s\u001b[0m 3ms/step - helper_output_loss: 0.4998 - helper_output_mae: 0.5170 - loss: 0.4779 - main_output_loss: 0.4754 - main_output_mae: 0.5020 - val_helper_output_loss: 0.5174 - val_helper_output_mae: 0.5249 - val_loss: 0.5010 - val_main_output_loss: 0.4981 - val_main_output_mae: 0.5224\n",
            "Epoch 29/50\n",
            "\u001b[1m413/413\u001b[0m \u001b[32m━━━━━━━━━━━━━━━━━━━━\u001b[0m\u001b[37m\u001b[0m \u001b[1m1s\u001b[0m 3ms/step - helper_output_loss: 0.5126 - helper_output_mae: 0.5229 - loss: 0.4865 - main_output_loss: 0.4836 - main_output_mae: 0.5048 - val_helper_output_loss: 0.5155 - val_helper_output_mae: 0.5218 - val_loss: 0.4994 - val_main_output_loss: 0.4964 - val_main_output_mae: 0.5071\n",
            "Epoch 30/50\n",
            "\u001b[1m413/413\u001b[0m \u001b[32m━━━━━━━━━━━━━━━━━━━━\u001b[0m\u001b[37m\u001b[0m \u001b[1m2s\u001b[0m 4ms/step - helper_output_loss: 0.5145 - helper_output_mae: 0.5237 - loss: 0.4982 - main_output_loss: 0.4963 - main_output_mae: 0.5120 - val_helper_output_loss: 0.5141 - val_helper_output_mae: 0.5192 - val_loss: 0.4946 - val_main_output_loss: 0.4914 - val_main_output_mae: 0.5103\n",
            "Epoch 31/50\n",
            "\u001b[1m413/413\u001b[0m \u001b[32m━━━━━━━━━━━━━━━━━━━━\u001b[0m\u001b[37m\u001b[0m \u001b[1m2s\u001b[0m 3ms/step - helper_output_loss: 0.5165 - helper_output_mae: 0.5237 - loss: 0.4938 - main_output_loss: 0.4913 - main_output_mae: 0.5086 - val_helper_output_loss: 0.5150 - val_helper_output_mae: 0.5256 - val_loss: 0.5024 - val_main_output_loss: 0.5000 - val_main_output_mae: 0.5250\n",
            "Epoch 32/50\n",
            "\u001b[1m413/413\u001b[0m \u001b[32m━━━━━━━━━━━━━━━━━━━━\u001b[0m\u001b[37m\u001b[0m \u001b[1m1s\u001b[0m 3ms/step - helper_output_loss: 0.4942 - helper_output_mae: 0.5160 - loss: 0.4735 - main_output_loss: 0.4712 - main_output_mae: 0.5009 - val_helper_output_loss: 0.5182 - val_helper_output_mae: 0.5168 - val_loss: 0.5239 - val_main_output_loss: 0.5241 - val_main_output_mae: 0.5046\n",
            "Epoch 33/50\n",
            "\u001b[1m413/413\u001b[0m \u001b[32m━━━━━━━━━━━━━━━━━━━━\u001b[0m\u001b[37m\u001b[0m \u001b[1m1s\u001b[0m 3ms/step - helper_output_loss: 0.5016 - helper_output_mae: 0.5151 - loss: 0.4773 - main_output_loss: 0.4746 - main_output_mae: 0.4990 - val_helper_output_loss: 0.5133 - val_helper_output_mae: 0.5166 - val_loss: 0.4986 - val_main_output_loss: 0.4959 - val_main_output_mae: 0.5009\n",
            "Epoch 34/50\n",
            "\u001b[1m413/413\u001b[0m \u001b[32m━━━━━━━━━━━━━━━━━━━━\u001b[0m\u001b[37m\u001b[0m \u001b[1m1s\u001b[0m 3ms/step - helper_output_loss: 0.5040 - helper_output_mae: 0.5199 - loss: 0.4811 - main_output_loss: 0.4785 - main_output_mae: 0.5043 - val_helper_output_loss: 0.5170 - val_helper_output_mae: 0.5186 - val_loss: 0.5015 - val_main_output_loss: 0.4990 - val_main_output_mae: 0.5095\n",
            "Epoch 35/50\n",
            "\u001b[1m413/413\u001b[0m \u001b[32m━━━━━━━━━━━━━━━━━━━━\u001b[0m\u001b[37m\u001b[0m \u001b[1m1s\u001b[0m 3ms/step - helper_output_loss: 0.4922 - helper_output_mae: 0.5093 - loss: 0.4690 - main_output_loss: 0.4664 - main_output_mae: 0.4937 - val_helper_output_loss: 0.5128 - val_helper_output_mae: 0.5181 - val_loss: 0.4990 - val_main_output_loss: 0.4964 - val_main_output_mae: 0.5098\n",
            "Epoch 36/50\n",
            "\u001b[1m413/413\u001b[0m \u001b[32m━━━━━━━━━━━━━━━━━━━━\u001b[0m\u001b[37m\u001b[0m \u001b[1m1s\u001b[0m 3ms/step - helper_output_loss: 0.5066 - helper_output_mae: 0.5191 - loss: 0.4834 - main_output_loss: 0.4808 - main_output_mae: 0.5034 - val_helper_output_loss: 0.5121 - val_helper_output_mae: 0.5192 - val_loss: 0.4964 - val_main_output_loss: 0.4936 - val_main_output_mae: 0.5083\n",
            "Epoch 37/50\n",
            "\u001b[1m413/413\u001b[0m \u001b[32m━━━━━━━━━━━━━━━━━━━━\u001b[0m\u001b[37m\u001b[0m \u001b[1m1s\u001b[0m 3ms/step - helper_output_loss: 0.4848 - helper_output_mae: 0.5064 - loss: 0.4626 - main_output_loss: 0.4601 - main_output_mae: 0.4914 - val_helper_output_loss: 0.5102 - val_helper_output_mae: 0.5176 - val_loss: 0.4919 - val_main_output_loss: 0.4885 - val_main_output_mae: 0.5041\n",
            "Epoch 38/50\n",
            "\u001b[1m413/413\u001b[0m \u001b[32m━━━━━━━━━━━━━━━━━━━━\u001b[0m\u001b[37m\u001b[0m \u001b[1m1s\u001b[0m 3ms/step - helper_output_loss: 0.4984 - helper_output_mae: 0.5137 - loss: 0.4761 - main_output_loss: 0.4736 - main_output_mae: 0.4985 - val_helper_output_loss: 0.5113 - val_helper_output_mae: 0.5178 - val_loss: 0.4935 - val_main_output_loss: 0.4900 - val_main_output_mae: 0.5088\n",
            "Epoch 39/50\n",
            "\u001b[1m413/413\u001b[0m \u001b[32m━━━━━━━━━━━━━━━━━━━━\u001b[0m\u001b[37m\u001b[0m \u001b[1m2s\u001b[0m 4ms/step - helper_output_loss: 0.4906 - helper_output_mae: 0.5137 - loss: 0.4706 - main_output_loss: 0.4684 - main_output_mae: 0.5000 - val_helper_output_loss: 0.5122 - val_helper_output_mae: 0.5168 - val_loss: 0.4964 - val_main_output_loss: 0.4933 - val_main_output_mae: 0.5041\n",
            "Epoch 40/50\n",
            "\u001b[1m413/413\u001b[0m \u001b[32m━━━━━━━━━━━━━━━━━━━━\u001b[0m\u001b[37m\u001b[0m \u001b[1m2s\u001b[0m 3ms/step - helper_output_loss: 0.5025 - helper_output_mae: 0.5129 - loss: 0.4832 - main_output_loss: 0.4810 - main_output_mae: 0.4997 - val_helper_output_loss: 0.5160 - val_helper_output_mae: 0.5116 - val_loss: 0.5077 - val_main_output_loss: 0.5062 - val_main_output_mae: 0.4983\n",
            "Epoch 41/50\n",
            "\u001b[1m413/413\u001b[0m \u001b[32m━━━━━━━━━━━━━━━━━━━━\u001b[0m\u001b[37m\u001b[0m \u001b[1m1s\u001b[0m 3ms/step - helper_output_loss: 0.5046 - helper_output_mae: 0.5179 - loss: 0.4853 - main_output_loss: 0.4831 - main_output_mae: 0.5062 - val_helper_output_loss: 0.5122 - val_helper_output_mae: 0.5195 - val_loss: 0.4961 - val_main_output_loss: 0.4931 - val_main_output_mae: 0.5191\n",
            "Epoch 42/50\n",
            "\u001b[1m413/413\u001b[0m \u001b[32m━━━━━━━━━━━━━━━━━━━━\u001b[0m\u001b[37m\u001b[0m \u001b[1m1s\u001b[0m 3ms/step - helper_output_loss: 0.4935 - helper_output_mae: 0.5156 - loss: 0.4785 - main_output_loss: 0.4768 - main_output_mae: 0.5041 - val_helper_output_loss: 0.5112 - val_helper_output_mae: 0.5215 - val_loss: 0.4942 - val_main_output_loss: 0.4910 - val_main_output_mae: 0.5113\n",
            "Epoch 43/50\n",
            "\u001b[1m413/413\u001b[0m \u001b[32m━━━━━━━━━━━━━━━━━━━━\u001b[0m\u001b[37m\u001b[0m \u001b[1m1s\u001b[0m 3ms/step - helper_output_loss: 0.4897 - helper_output_mae: 0.5117 - loss: 0.4673 - main_output_loss: 0.4648 - main_output_mae: 0.4962 - val_helper_output_loss: 0.5150 - val_helper_output_mae: 0.5212 - val_loss: 0.4927 - val_main_output_loss: 0.4890 - val_main_output_mae: 0.5020\n",
            "Epoch 44/50\n",
            "\u001b[1m413/413\u001b[0m \u001b[32m━━━━━━━━━━━━━━━━━━━━\u001b[0m\u001b[37m\u001b[0m \u001b[1m1s\u001b[0m 3ms/step - helper_output_loss: 0.5108 - helper_output_mae: 0.5204 - loss: 0.4846 - main_output_loss: 0.4817 - main_output_mae: 0.5024 - val_helper_output_loss: 0.5106 - val_helper_output_mae: 0.5155 - val_loss: 0.5041 - val_main_output_loss: 0.5026 - val_main_output_mae: 0.4974\n",
            "Epoch 45/50\n",
            "\u001b[1m413/413\u001b[0m \u001b[32m━━━━━━━━━━━━━━━━━━━━\u001b[0m\u001b[37m\u001b[0m \u001b[1m1s\u001b[0m 3ms/step - helper_output_loss: 0.4881 - helper_output_mae: 0.5116 - loss: 0.4671 - main_output_loss: 0.4647 - main_output_mae: 0.4967 - val_helper_output_loss: 0.5098 - val_helper_output_mae: 0.5134 - val_loss: 0.4992 - val_main_output_loss: 0.4970 - val_main_output_mae: 0.4971\n",
            "Epoch 46/50\n",
            "\u001b[1m413/413\u001b[0m \u001b[32m━━━━━━━━━━━━━━━━━━━━\u001b[0m\u001b[37m\u001b[0m \u001b[1m1s\u001b[0m 3ms/step - helper_output_loss: 0.5000 - helper_output_mae: 0.5122 - loss: 0.4791 - main_output_loss: 0.4767 - main_output_mae: 0.4994 - val_helper_output_loss: 0.5096 - val_helper_output_mae: 0.5160 - val_loss: 0.4975 - val_main_output_loss: 0.4954 - val_main_output_mae: 0.5033\n",
            "Epoch 47/50\n",
            "\u001b[1m413/413\u001b[0m \u001b[32m━━━━━━━━━━━━━━━━━━━━\u001b[0m\u001b[37m\u001b[0m \u001b[1m2s\u001b[0m 4ms/step - helper_output_loss: 0.5021 - helper_output_mae: 0.5139 - loss: 0.4776 - main_output_loss: 0.4749 - main_output_mae: 0.4987 - val_helper_output_loss: 0.5089 - val_helper_output_mae: 0.5175 - val_loss: 0.4947 - val_main_output_loss: 0.4920 - val_main_output_mae: 0.5051\n",
            "Epoch 48/50\n",
            "\u001b[1m413/413\u001b[0m \u001b[32m━━━━━━━━━━━━━━━━━━━━\u001b[0m\u001b[37m\u001b[0m \u001b[1m2s\u001b[0m 4ms/step - helper_output_loss: 0.5051 - helper_output_mae: 0.5180 - loss: 0.4798 - main_output_loss: 0.4770 - main_output_mae: 0.5018 - val_helper_output_loss: 0.5095 - val_helper_output_mae: 0.5201 - val_loss: 0.4953 - val_main_output_loss: 0.4928 - val_main_output_mae: 0.5051\n",
            "Epoch 49/50\n",
            "\u001b[1m413/413\u001b[0m \u001b[32m━━━━━━━━━━━━━━━━━━━━\u001b[0m\u001b[37m\u001b[0m \u001b[1m1s\u001b[0m 3ms/step - helper_output_loss: 0.4883 - helper_output_mae: 0.5109 - loss: 0.4682 - main_output_loss: 0.4660 - main_output_mae: 0.4956 - val_helper_output_loss: 0.5203 - val_helper_output_mae: 0.5266 - val_loss: 0.4967 - val_main_output_loss: 0.4931 - val_main_output_mae: 0.5116\n",
            "Epoch 50/50\n",
            "\u001b[1m413/413\u001b[0m \u001b[32m━━━━━━━━━━━━━━━━━━━━\u001b[0m\u001b[37m\u001b[0m \u001b[1m1s\u001b[0m 3ms/step - helper_output_loss: 0.5111 - helper_output_mae: 0.5206 - loss: 0.4838 - main_output_loss: 0.4808 - main_output_mae: 0.5031 - val_helper_output_loss: 0.5067 - val_helper_output_mae: 0.5154 - val_loss: 0.4917 - val_main_output_loss: 0.4884 - val_main_output_mae: 0.5025\n"
          ]
        }
      ]
    },
    {
      "cell_type": "code",
      "source": [
        "test_results = model.evaluate(X_test[:, :4], {'main_output': y_test, 'helper_output': y_test})\n",
        "print(f\"Test Loss: {test_results[0]}\")\n",
        "print(f\"Main Output MAE: {test_results[3]}\")\n",
        "print(f\"Helper Output MAE: {test_results[4]}\")"
      ],
      "metadata": {
        "colab": {
          "base_uri": "https://localhost:8080/"
        },
        "id": "IcRK9mY54NEz",
        "outputId": "2b6673ce-62eb-4161-b77e-8394dee55615"
      },
      "execution_count": 70,
      "outputs": [
        {
          "output_type": "stream",
          "name": "stdout",
          "text": [
            "\u001b[1m129/129\u001b[0m \u001b[32m━━━━━━━━━━━━━━━━━━━━\u001b[0m\u001b[37m\u001b[0m \u001b[1m0s\u001b[0m 2ms/step - helper_output_loss: 0.5212 - helper_output_mae: 0.5229 - loss: 0.5006 - main_output_loss: 0.4983 - main_output_mae: 0.5058\n",
            "Test Loss: 0.5127730369567871\n",
            "Main Output MAE: 0.520378589630127\n",
            "Helper Output MAE: 0.5056670308113098\n"
          ]
        }
      ]
    }
  ]
}