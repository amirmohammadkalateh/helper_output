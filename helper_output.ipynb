{
  "nbformat": 4,
  "nbformat_minor": 0,
  "metadata": {
    "colab": {
      "provenance": [],
      "authorship_tag": "ABX9TyOdCUvX5+mRD9ZuSRkQiFe5",
      "include_colab_link": true
    },
    "kernelspec": {
      "name": "python3",
      "display_name": "Python 3"
    },
    "language_info": {
      "name": "python"
    }
  },
  "cells": [
    {
      "cell_type": "markdown",
      "metadata": {
        "id": "view-in-github",
        "colab_type": "text"
      },
      "source": [
        "<a href=\"https://colab.research.google.com/github/amirmohammadkalateh/helper_output/blob/main/helper_output.ipynb\" target=\"_parent\"><img src=\"https://colab.research.google.com/assets/colab-badge.svg\" alt=\"Open In Colab\"/></a>"
      ]
    },
    {
      "cell_type": "code",
      "execution_count": 40,
      "metadata": {
        "id": "PjaO6S0FubMO"
      },
      "outputs": [],
      "source": [
        "import tensorflow as tf\n",
        "from tensorflow import keras\n",
        "from sklearn.datasets import fetch_california_housing\n",
        "from sklearn.preprocessing import StandardScaler\n",
        "import numpy as np\n",
        "import pandas as pd"
      ]
    },
    {
      "cell_type": "code",
      "source": [
        "housing = fetch_california_housing()\n",
        "X = housing.data[: , [0,1,2,3]]\n",
        "Y = housing.target"
      ],
      "metadata": {
        "id": "CASgrqiwvAjY"
      },
      "execution_count": 41,
      "outputs": []
    },
    {
      "cell_type": "code",
      "source": [
        "scaler = StandardScaler()\n",
        "X_scaled = scaler.fit_transform(X)"
      ],
      "metadata": {
        "id": "99vW5wsYvjqA"
      },
      "execution_count": 42,
      "outputs": []
    },
    {
      "cell_type": "code",
      "source": [
        "# Split the data\n",
        "X_train, X_test, Y_train, Y_test = train_test_split(X_scaled, Y, test_size=0.2, random_state=42)"
      ],
      "metadata": {
        "id": "4xQucNSJvvxE"
      },
      "execution_count": 43,
      "outputs": []
    },
    {
      "cell_type": "code",
      "source": [
        "def create_model():\n",
        "  inputs = tf.keras.Input(shape=(4,))\n",
        "  x = tf.keras.layers.Dense(64, activation='relu')(inputs)\n",
        "  x = tf.keras.layers.Dropout(0.2)(x)\n",
        "  x = tf.keras.layers.Dense(64, activation='relu')(x)\n",
        "  x = tf.keras.layers.Dropout(0.2)(x)\n",
        "  #main\n",
        "  main_output = tf.keras.layers.Dense(1, name='main_output')(x)\n",
        "  #helper\n",
        "  helper_output = tf.keras.layers.Dense(1, activation='sigmoid', name='helper_output')(x)\n",
        "  model = tf.keras.Model(inputs=inputs,\n",
        "                         outputs=[main_output, helper_output])\n",
        "  model.compile(optimizer='adam',\n",
        "                loss={'main_output': 'mse',\n",
        "                     'helper_output': 'binary_crossentropy'},\n",
        "                loss_weights={'main_output': 1.0,\n",
        "                            'helper_output': 0.2})\n",
        "\n",
        "  return model"
      ],
      "metadata": {
        "id": "RhOJqpbRw7NG"
      },
      "execution_count": 46,
      "outputs": []
    },
    {
      "cell_type": "code",
      "source": [
        "model = create_model()\n",
        "y_train = np.array(Y_train)\n",
        "y_test = np.array(Y_test)\n",
        "helper_target = (y_train > y_train.mean()).astype(float)\n",
        "helper_target_test = (y_test > y_test.mean()).astype(float)"
      ],
      "metadata": {
        "id": "ucCf5-Pq0XxU"
      },
      "execution_count": 48,
      "outputs": []
    },
    {
      "cell_type": "code",
      "source": [
        "test_scores = model.evaluate(X_test,\n",
        "                           {'main_output': y_test,\n",
        "                            'helper_output': helper_target_test},\n",
        "                           verbose=0)\n",
        "print(\"\\nTest loss (total, main_output, helper_output):\", test_scores)"
      ],
      "metadata": {
        "colab": {
          "base_uri": "https://localhost:8080/"
        },
        "id": "k01_VOns1xrO",
        "outputId": "23562576-222e-4229-a441-e186cf7d2da1"
      },
      "execution_count": 49,
      "outputs": [
        {
          "output_type": "stream",
          "name": "stdout",
          "text": [
            "\n",
            "Test loss (total, main_output, helper_output): [5.665384292602539, 5.529346942901611, 0.6801896691322327]\n"
          ]
        }
      ]
    }
  ]
}